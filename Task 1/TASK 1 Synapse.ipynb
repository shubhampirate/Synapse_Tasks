{
 "cells": [
  {
   "cell_type": "code",
   "execution_count": 1,
   "id": "ea2ab1e0",
   "metadata": {},
   "outputs": [],
   "source": [
    "modern_family = ['CLaiRe_DunPhY', 'PHiL_dUnpHY', 'GLoRiA_PriTCheTt', 'CaMErOn_TuCKEr','StELLa']"
   ]
  },
  {
   "cell_type": "code",
   "execution_count": 2,
   "id": "85531549",
   "metadata": {},
   "outputs": [],
   "source": [
    "enumeratefamily = enumerate(modern_family)"
   ]
  },
  {
   "cell_type": "code",
   "execution_count": 3,
   "id": "ee241747",
   "metadata": {},
   "outputs": [
    {
     "name": "stdout",
     "output_type": "stream",
     "text": [
      "[(0, 'CLaiRe_DunPhY'), (1, 'PHiL_dUnpHY'), (2, 'GLoRiA_PriTCheTt'), (3, 'CaMErOn_TuCKEr'), (4, 'StELLa')]\n"
     ]
    }
   ],
   "source": [
    "print(list(enumeratefamily))"
   ]
  },
  {
   "cell_type": "code",
   "execution_count": 10,
   "id": "d6d9ffbe",
   "metadata": {},
   "outputs": [
    {
     "data": {
      "text/plain": [
       "5"
      ]
     },
     "execution_count": 10,
     "metadata": {},
     "output_type": "execute_result"
    }
   ],
   "source": [
    "l1=[]\n",
    "l2=modern_family\n",
    "l2\n",
    "len(l2)"
   ]
  },
  {
   "cell_type": "code",
   "execution_count": 26,
   "id": "3cd41bce",
   "metadata": {},
   "outputs": [
    {
     "data": {
      "text/plain": [
       "[0, 1, 2, 3, 4]"
      ]
     },
     "execution_count": 26,
     "metadata": {},
     "output_type": "execute_result"
    }
   ],
   "source": [
    "l1=[]\n",
    "for count in enumerate(l2):\n",
    "    l1.append(count)\n",
    "l1=[0,1,2,3,4]\n",
    "l1"
   ]
  },
  {
   "cell_type": "code",
   "execution_count": 20,
   "id": "a3ad8f46",
   "metadata": {},
   "outputs": [
    {
     "data": {
      "text/plain": [
       "['claire-dunphy',\n",
       " 'phil-dunphy',\n",
       " 'gloria-pritchett',\n",
       " 'cameron-tucker',\n",
       " 'stella']"
      ]
     },
     "execution_count": 20,
     "metadata": {},
     "output_type": "execute_result"
    }
   ],
   "source": [
    "mf_lower=[]\n",
    "for name in l2:\n",
    "    mf_lower.append(name.lower().replace('_','-'))\n",
    "    \n",
    "mf_lower"
   ]
  },
  {
   "cell_type": "code",
   "execution_count": 14,
   "id": "c243f456",
   "metadata": {},
   "outputs": [
    {
     "data": {
      "text/plain": [
       "[13, 11, 16, 14, 6]"
      ]
     },
     "execution_count": 14,
     "metadata": {},
     "output_type": "execute_result"
    }
   ],
   "source": [
    "l3=[]\n",
    "for element in mf_lower:\n",
    "     l3.append(len(element))\n",
    "l3"
   ]
  },
  {
   "cell_type": "code",
   "execution_count": 28,
   "id": "3786657b",
   "metadata": {},
   "outputs": [
    {
     "data": {
      "text/plain": [
       "[13, 12, 18, 17, 10]"
      ]
     },
     "execution_count": 28,
     "metadata": {},
     "output_type": "execute_result"
    }
   ],
   "source": [
    "sum = [x + y for (x, y) in zip(l1, l3)]\n",
    "sum"
   ]
  },
  {
   "cell_type": "code",
   "execution_count": 32,
   "id": "39d447f2",
   "metadata": {},
   "outputs": [
    {
     "data": {
      "text/plain": [
       "[18, 17, 13, 12, 10]"
      ]
     },
     "execution_count": 32,
     "metadata": {},
     "output_type": "execute_result"
    }
   ],
   "source": [
    "sum.sort(reverse=True)\n",
    "sum"
   ]
  },
  {
   "cell_type": "code",
   "execution_count": 41,
   "id": "b4ec1993",
   "metadata": {},
   "outputs": [
    {
     "data": {
      "text/plain": [
       "{18: 'claire-dunphy',\n",
       " 17: 'phil-dunphy',\n",
       " 13: 'gloria-pritchett',\n",
       " 12: 'cameron-tucker',\n",
       " 10: 'stella'}"
      ]
     },
     "execution_count": 41,
     "metadata": {},
     "output_type": "execute_result"
    }
   ],
   "source": [
    "phew_family = dict(zip(sum,mf_lower))\n",
    "phew_family"
   ]
  },
  {
   "cell_type": "code",
   "execution_count": 42,
   "id": "080c93dc",
   "metadata": {},
   "outputs": [],
   "source": [
    "creepy_doll = ['red_light', 'green_light', 'red_light', 'you_got_shot', 'green_light', 'you_got_shot',\n",
    "'you_got_shot', 'green_light', 'you_ got_shot', 'red_light', 'green_light', 'red_light', 'you_got_shot',\n",
    "'green_light','red_light', 'red_light', 'green_light', 'you_got_shot','red_light', 'you_got_shot']"
   ]
  },
  {
   "cell_type": "code",
   "execution_count": null,
   "id": "2ecacc76",
   "metadata": {},
   "outputs": [],
   "source": []
  },
  {
   "cell_type": "code",
   "execution_count": 46,
   "id": "8e19742d",
   "metadata": {},
   "outputs": [
    {
     "data": {
      "text/plain": [
       "['green_light',\n",
       " 'green_light',\n",
       " 'green_light',\n",
       " 'green_light',\n",
       " 'green_light',\n",
       " 'green_light']"
      ]
     },
     "execution_count": 46,
     "metadata": {},
     "output_type": "execute_result"
    }
   ],
   "source": [
    "next_game=[]\n",
    "for name in creepy_doll:\n",
    "    if(name[:1] == 'g'):\n",
    "        next_game.append(name)\n",
    "next_game"
   ]
  },
  {
   "cell_type": "code",
   "execution_count": 64,
   "id": "f60cfe1e",
   "metadata": {},
   "outputs": [
    {
     "name": "stdout",
     "output_type": "stream",
     "text": [
      "enter titan name:Founding titan\n",
      "enter height:13\n",
      "enter strength:350\n",
      "enter scout name:levi\n",
      "enter strength:300\n",
      "1\n"
     ]
    }
   ],
   "source": [
    "class titans:\n",
    "    winCount = 0\n",
    "    def __init__(self):  \n",
    "        self.name = input('enter titan name:')\n",
    "        self.height = input('enter height:')\n",
    "        self.strength = input('enter strength:')  \n",
    "        self.scoutname = input('enter scout name:')\n",
    "        self.scoutstrength = input('enter strength:')\n",
    "        winCount=0\n",
    "    def Titanvsscout(self):\n",
    "        winCount=0\n",
    "        if(self.scoutstrength >= self.strength):\n",
    "            winCount=0\n",
    "            print(winCount)\n",
    "        else:\n",
    "            winCount+=1\n",
    "            print(winCount)\n",
    "    def displayTitan(self):  \n",
    "        print(\"Name:\", self.name, \"Height:\", self.height, \"Strength:\",self.strength)\n",
    "\n",
    "titan=titans()\n",
    "titan.Titanvsscout()\n"
   ]
  },
  {
   "cell_type": "code",
   "execution_count": 71,
   "id": "e92d616c",
   "metadata": {},
   "outputs": [
    {
     "name": "stdout",
     "output_type": "stream",
     "text": [
      "enter titan name:Founding titan\n",
      "enter height:13\n",
      "enter strength:350\n",
      "enter another titan name:Founding titan\n",
      "enter another titan strength:350\n",
      "0\n"
     ]
    }
   ],
   "source": [
    "class titans:\n",
    "    winCount = 0\n",
    "    def __init__(self):  \n",
    "        self.name = input('enter titan name:')\n",
    "        self.height = input('enter height:')\n",
    "        self.strength = input('enter strength:')  \n",
    "        self.scoutname = input('enter another titan name:')\n",
    "        self.scoutstrength = input('enter another titan strength:')\n",
    "        winCount=0\n",
    "    def Titanvsscout(self):\n",
    "        winCount=0\n",
    "        if((self.name ==self.scoutname) or (self.scoutstrength >= self.strength)):\n",
    "            winCount=0\n",
    "            print(winCount)\n",
    "        else:\n",
    "            winCount+=1\n",
    "            print(winCount)\n",
    "    def displayTitan(self):  \n",
    "        print(\"Name:\", self.name, \"Height:\", self.height, \"Strength:\",self.strength)\n",
    "\n",
    "titan=titans()\n",
    "titan.Titanvsscout()\n"
   ]
  },
  {
   "cell_type": "code",
   "execution_count": null,
   "id": "ee2536ca",
   "metadata": {},
   "outputs": [],
   "source": []
  }
 ],
 "metadata": {
  "kernelspec": {
   "display_name": "Python 3 (ipykernel)",
   "language": "python",
   "name": "python3"
  },
  "language_info": {
   "codemirror_mode": {
    "name": "ipython",
    "version": 3
   },
   "file_extension": ".py",
   "mimetype": "text/x-python",
   "name": "python",
   "nbconvert_exporter": "python",
   "pygments_lexer": "ipython3",
   "version": "3.10.0"
  }
 },
 "nbformat": 4,
 "nbformat_minor": 5
}
